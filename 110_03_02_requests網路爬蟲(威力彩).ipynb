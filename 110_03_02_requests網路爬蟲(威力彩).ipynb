{
  "nbformat": 4,
  "nbformat_minor": 0,
  "metadata": {
    "colab": {
      "name": "110.03.02 requests網路爬蟲(威力彩)",
      "provenance": [],
      "authorship_tag": "ABX9TyPRZEuiN1T8zDpGEelYEy3X",
      "include_colab_link": true
    },
    "kernelspec": {
      "name": "python3",
      "display_name": "Python 3"
    }
  },
  "cells": [
    {
      "cell_type": "markdown",
      "metadata": {
        "id": "view-in-github",
        "colab_type": "text"
      },
      "source": [
        "<a href=\"https://colab.research.google.com/github/BrewTC/learn_Python/blob/main/110_03_02_requests%E7%B6%B2%E8%B7%AF%E7%88%AC%E8%9F%B2(%E5%A8%81%E5%8A%9B%E5%BD%A9).ipynb\" target=\"_parent\"><img src=\"https://colab.research.google.com/assets/colab-badge.svg\" alt=\"Open In Colab\"/></a>"
      ]
    },
    {
      "cell_type": "code",
      "metadata": {
        "id": "rb1aawNOy0V2"
      },
      "source": [
        "# pip install -U requests\r\n",
        "# pip install -U beautifulsoup4"
      ],
      "execution_count": null,
      "outputs": []
    },
    {
      "cell_type": "code",
      "metadata": {
        "colab": {
          "base_uri": "https://localhost:8080/"
        },
        "id": "EnqNBWOKzIsf",
        "outputId": "67f49d91-a498-409f-d45b-7a830c14d493"
      },
      "source": [
        "#發送GET請求\r\n",
        "\r\n",
        "import requests \r\n",
        "payload = {'key1':'value1','key2':'value2'}\r\n",
        "#將查詢參數加入 GET 請求中\r\n",
        "r = requests.get(\"http://httpbin.org/get\",params=payload)\r\n",
        "print(r.text)"
      ],
      "execution_count": null,
      "outputs": [
        {
          "output_type": "stream",
          "text": [
            "{\n",
            "  \"args\": {\n",
            "    \"key1\": \"value1\", \n",
            "    \"key2\": \"value2\"\n",
            "  }, \n",
            "  \"headers\": {\n",
            "    \"Accept\": \"*/*\", \n",
            "    \"Accept-Encoding\": \"gzip, deflate\", \n",
            "    \"Host\": \"httpbin.org\", \n",
            "    \"User-Agent\": \"python-requests/2.23.0\", \n",
            "    \"X-Amzn-Trace-Id\": \"Root=1-603dd015-2374af6009fb1b2c60a78e29\"\n",
            "  }, \n",
            "  \"origin\": \"35.237.137.101\", \n",
            "  \"url\": \"http://httpbin.org/get?key1=value1&key2=value2\"\n",
            "}\n",
            "\n"
          ],
          "name": "stdout"
        }
      ]
    },
    {
      "cell_type": "code",
      "metadata": {
        "id": "Dn4aK-sPeH9M"
      },
      "source": [
        "#發送POST請求\r\n",
        "\r\n",
        "import requests \r\n",
        "payload = {'key1':'value1','key2':'value2'}\r\n",
        "#將查詢參數加入 POST 請求中\r\n",
        "r = requests.post(\"http://httpbin.org/post\",data=payload)\r\n",
        "print(r.text)"
      ],
      "execution_count": null,
      "outputs": []
    },
    {
      "cell_type": "code",
      "metadata": {
        "colab": {
          "base_uri": "https://localhost:8080/"
        },
        "id": "gSGwtwVSey5j",
        "outputId": "884daccd-b7eb-4e08-ba2f-61a9c5e400de"
      },
      "source": [
        "#自訂HTTP Header偽裝瀏覽器操作\r\n",
        "#以台灣高鐵官網為例\r\n",
        "\r\n",
        "import requests\r\n",
        "from bs4 import BeautifulSoup\r\n",
        "url = 'https://www.thsrc.com.tw/'\r\n",
        "cookies = {'_atrk_sessidx':'1'}\r\n",
        "#自訂標頭\r\n",
        "headers ={'user-agent':'Mozilla/5.0 (Macintosh; Intel Mac OS X 10_15_6) AppleWebKit/537.36 (KHTML, like Gecko) Chrome/85.0.4183.102 Safari/537.36'}\r\n",
        "r = requests.get(url, headers=headers, cookies=cookies)\r\n",
        "\r\n",
        "if r.status_code >=200 and r.status_code <= 299:\r\n",
        "    #print(r.text) #取得網頁原始碼\r\n",
        "    soup = BeautifulSoup(r.text,'html.parser')\r\n",
        "    # print(soup)\r\n",
        "    \r\n",
        "#抓出台灣高鐵-最新消息網址\r\n",
        "print('台灣高鐵-最新消息:','https://www.thsrc.com.tw'+soup.select('.know-more')[0].get('href'))"
      ],
      "execution_count": null,
      "outputs": [
        {
          "output_type": "stream",
          "text": [
            "台灣高鐵-最新消息: https://www.thsrc.com.tw/ArticleContent/6f0648a4-2e78-4a57-b669-44acd8e2daea\n"
          ],
          "name": "stdout"
        }
      ]
    },
    {
      "cell_type": "code",
      "metadata": {
        "colab": {
          "base_uri": "https://localhost:8080/"
        },
        "id": "vkQJFqohuFMu",
        "outputId": "6af68db4-f091-4573-a101-b83b94fad9ac"
      },
      "source": [
        "#實戰:威力彩開獎號碼\r\n",
        "\r\n",
        "import requests\r\n",
        "from bs4 import BeautifulSoup\r\n",
        "\r\n",
        "url = 'https://www.taiwanlottery.com.tw'\r\n",
        "r = requests.get(url)\r\n",
        "\r\n",
        "if r.status_code >=200 and r.status_code <= 299:\r\n",
        "    # print(r.text) #取得網頁原始碼\r\n",
        "    soup = BeautifulSoup(r.text,'html.parser')\r\n",
        "    # print(soup)\r\n",
        "\r\n",
        "#找到威力彩的區塊\r\n",
        "datas = soup.find('div', class_=\"contents_box02\")\r\n",
        "\r\n",
        "#開獎期數\r\n",
        "title = datas.find('span', \"font_black15\").text\r\n",
        "\r\n",
        "#開獎號碼\r\n",
        "nums = datas.find_all('div', class_=\"ball_tx ball_green\")\r\n",
        "\r\n",
        "#開出順序\r\n",
        "print('開出順序: ', end='')\r\n",
        "for i in range(0,6):\r\n",
        "    print(nums[i].text, end='')\r\n",
        "\r\n",
        "#大小順序\r\n",
        "print('\\n大小順序: ', end='')\r\n",
        "for i in range(6,12):\r\n",
        "    print(nums[i].text, end='')\r\n",
        "#第二區\r\n",
        "num = datas.find('div', class_='ball_red').text\r\n",
        "print('\\n第二區: ', num)"
      ],
      "execution_count": null,
      "outputs": [
        {
          "output_type": "stream",
          "text": [
            "開出順序: 38 05 09 10 21 32 \n",
            "大小順序: 05 09 10 21 32 38 \n",
            "第二區:  07 \n"
          ],
          "name": "stdout"
        }
      ]
    }
  ]
}